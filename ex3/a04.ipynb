{
 "cells": [
  {
   "cell_type": "markdown",
   "id": "b26b8366",
   "metadata": {},
   "source": [
    "---\n",
    "## Exercise 4: Plugin Classifier"
   ]
  },
  {
   "cell_type": "code",
   "execution_count": 1,
   "id": "e375fcc0",
   "metadata": {},
   "outputs": [],
   "source": [
    "import numpy as np\n",
    "import scipy.stats as stats\n",
    "import matplotlib.pyplot as plt"
   ]
  },
  {
   "cell_type": "code",
   "execution_count": 2,
   "id": "0fffaa48",
   "metadata": {},
   "outputs": [],
   "source": [
    "def generate_dataset(avg, std, py, n_samples=100):\n",
    "        \n",
    "    n0 = int(n_samples * py[0])\n",
    "    n1 = n_samples - n0\n",
    "    \n",
    "    x0 = stats.norm.rvs(loc=avg[0], scale=std[0], size=n0)\n",
    "    x1 = stats.norm.rvs(loc=avg[1], scale=std[1], size=n1)\n",
    "    y0 = np.zeros(n0)  \n",
    "    y1 = np.ones(n1)  \n",
    "    \n",
    "    X = np.concatenate([x0, x1])\n",
    "    y = np.concatenate([y0, y1])\n",
    "\n",
    "    return X, y"
   ]
  },
  {
   "cell_type": "code",
   "execution_count": 3,
   "id": "5839875c",
   "metadata": {},
   "outputs": [],
   "source": [
    "class PluginClassifier:\n",
    "\n",
    "    def fit(self, X, y):\n",
    "        x0 = X[y == 0]\n",
    "        x1 = X[y == 1]\n",
    "        \n",
    "        # estimate parameters\n",
    "        avg0 = np.mean(x0)\n",
    "        std0 = np.std(x0)\n",
    "        avg1 = np.mean(x1)\n",
    "        std1 = np.std(x1)\n",
    "        \n",
    "        # priors\n",
    "        py0 = len(x0) / len(X)\n",
    "        py1 = len(x1) / len(X)\n",
    "\n",
    "        self.avg = [avg0, avg1]\n",
    "        self.std = [std0, std1]\n",
    "        self.py = [py0, py1]\n",
    "\n",
    "\n",
    "    def score(self, X, y):\n",
    "        avg = self.avg\n",
    "        std = self.std\n",
    "        py = self.py\n",
    "        \n",
    "        p0 = stats.norm.pdf(X, avg[0], std[0]) * py[0]\n",
    "        p1 = stats.norm.pdf(X, avg[1], std[1]) * py[1]\n",
    "        y_pred = (p1 >= p0).astype(int)\n",
    "\n",
    "        return np.mean(y_pred == y)"
   ]
  },
  {
   "cell_type": "code",
   "execution_count": 4,
   "id": "3f6f28a2",
   "metadata": {},
   "outputs": [
    {
     "data": {
      "image/png": "[encoded data removed]",
      "text/plain": [
       "<Figure size 640x480 with 1 Axes>"
      ]
     },
     "metadata": {},
     "output_type": "display_data"
    }
   ],
   "source": [
    "n_trials = 500\n",
    "n_samples = np.arange(10, 500, 10)\n",
    "avg = [170, 180]\n",
    "std = [6., 6.]\n",
    "py=[0.5, 0.5]\n",
    "\n",
    "X_test, y_test = generate_dataset(avg=[165, 180], std=[5., 7.], py=[0.5, 0.5], n_samples=10000)\n",
    "\n",
    "avg_errors = []\n",
    "for n in n_samples:\n",
    "    errors_by_n = []\n",
    "    for _ in range(n_trials):\n",
    "        X_train, y_train = generate_dataset(avg=avg, std=std, py=py, n_samples=n)\n",
    "        clf = PluginClassifier()\n",
    "        clf.fit(X_train, y_train)\n",
    "        err = 1.-clf.score(X_test, y_test)\n",
    "        errors_by_n.append(err)\n",
    "    avg_errors.append(np.array(errors_by_n).mean())\n",
    "\n",
    "plt.plot(n_samples, avg_errors)\n",
    "plt.show()\n",
    "\n"
   ]
  },
  {
   "cell_type": "code",
   "execution_count": null,
   "id": "9165a0b8",
   "metadata": {},
   "outputs": [],
   "source": []
  }
 ],
 "metadata": {
  "kernelspec": {
   "display_name": "Python 3 (ipykernel)",
   "language": "python",
   "name": "python3"
  },
  "language_info": {
   "codemirror_mode": {
    "name": "ipython",
    "version": 3
   },
   "file_extension": ".py",
   "mimetype": "text/x-python",
   "name": "python",
   "nbconvert_exporter": "python",
   "pygments_lexer": "ipython3",
   "version": "3.10.9"
  }
 },
 "nbformat": 4,
 "nbformat_minor": 5
}
