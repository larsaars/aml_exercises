{
 "cells": [
  {
   "cell_type": "markdown",
   "metadata": {},
   "source": [
    "### Exercise 4"
   ]
  },
  {
   "cell_type": "code",
   "execution_count": 1,
   "metadata": {},
   "outputs": [],
   "source": [
    "import numpy as np\n",
    "import matplotlib.pyplot as plt\n",
    "\n",
    "from sklearn.datasets import make_blobs\n",
    "from sklearn.model_selection import train_test_split\n",
    "from sklearn.linear_model import LogisticRegression"
   ]
  },
  {
   "cell_type": "markdown",
   "metadata": {},
   "source": [
    "---\n",
    "### Large Dataset Generation\n",
    "Generate a large set `(X, y)` of input-output examples as ground-truth population for two purposes: \n",
    "\n",
    "1. **Risk and variance computation:** Since `(X, y)` is the ground-truth, we can use it to compute the true risk $R(f)$ of a classifier $f$ and the variance $\\mathbb{V}[\\ell]$, where $\\ell$ is the binary random variable with \n",
    "\n",
    "$$\n",
    "\\ell(x, y) = \\begin{cases}\n",
    "1 &:& f(x) \\neq y\\\\\n",
    "0 &:& \\text{otherwise}\n",
    "\\end{cases}\n",
    "$$\n",
    "\n",
    "2. **Sampling:** Sample training and test sets from `(X, y)`."
   ]
  },
  {
   "cell_type": "code",
   "execution_count": 2,
   "metadata": {},
   "outputs": [],
   "source": [
    "N = int(1e6)\n",
    "centers = ((1, 1), (-1, 1), (-1, -1), (1, -1))\n",
    "X, y = make_blobs(N, centers=centers, cluster_std=0.5)\n",
    "y[y==2], y[y==3] = 0, 1"
   ]
  },
  {
   "cell_type": "markdown",
   "metadata": {},
   "source": [
    "---\n",
    "### Auxiliary Functions"
   ]
  },
  {
   "cell_type": "code",
   "execution_count": 3,
   "metadata": {},
   "outputs": [],
   "source": [
    "def sample(n, rs=None):\n",
    "    '''Samples a training set of size n from the population (X, y).\n",
    "\n",
    "    Parameter:\n",
    "      n   size of training set\n",
    "      rs  random state \n",
    "    '''\n",
    "    X_tr, _, y_tr, _ = train_test_split(X, y, train_size=n, random_state=rs)\n",
    "    return X_tr, y_tr\n",
    "\n",
    "def init(f, n=100):\n",
    "    ''' Initialize an experiment. \n",
    "\n",
    "    Parameters:\n",
    "    f   classifier\n",
    "    n   size of training set\n",
    "\n",
    "    Return:\n",
    "    f   trained classifier\n",
    "    R   risk R(f) over ground-truth data\n",
    "    V   estimated variance of 1{f(x)\\neq y}\n",
    "    '''\n",
    "\n",
    "    # fit classifier\n",
    "    X_train, y_train = sample(n, rs=13)\n",
    "    f.fit(X_train, y_train)\n",
    "\n",
    "    # true risk R(f) \n",
    "    errors = f.predict(X) != y\n",
    "    R = np.mean(errors)\n",
    "\n",
    "    # variance of 1{f(x)\\neq y}\n",
    "    V = np.var(errors)\n",
    "    \n",
    "    return f, R, V\n",
    "\n",
    "def test_n(f, R, V, n, t=0.05, n_runs=100, verbose=True):\n",
    "    ''' \n",
    "    This function repeats the following experiment n_runs times:\n",
    "\n",
    "        1. sample a test set of size n from (X, y)\n",
    "        2. compute the empirical risk Rn(f) on the test set\n",
    "        3. compute the deviation |Rn(f) - R(f)|\n",
    "    \n",
    "    Count how often |Rn(f) - R(f)| >= t occurs and compute the fraction over all n_runs trials to approximate \n",
    "\n",
    "        P(|Rn(f) - R(f)| >= t). \n",
    "    \n",
    "    Print the estimated probability, Chebyshev's and Hoeffdings's bound if verbose is True. Return the estimated probability and both bounds.\n",
    "\n",
    "    Parameters:\n",
    "    f        classifier\n",
    "    R        risk R(f) over ground-truth data\n",
    "    V        estimated variance of 1{f(x)\\neq y}\n",
    "    n        size of test set\n",
    "    t        error tolerance in |Rn(f) - R(f)| >= t\n",
    "    n_runs   number of trials\n",
    "    verbose  print results if True \n",
    "\n",
    "    Return:\n",
    "    prob        estimated probability P(|Rn(f) - R(f)| >= t)\n",
    "    cheb_bound  estimated Chebyshev bound\n",
    "    hoef_bound  Hoeffding bound\n",
    "    '''\n",
    "\n",
    "    # bounds\n",
    "    cheb_bound = V/(n*t*t)\n",
    "    hoef_bound = 2*np.exp(-2*n*t*t)\n",
    "\n",
    "    # estimate P(|Rn(f) - R(f)| >= t)\n",
    "    n_deviations = 0\n",
    "    for _ in range(n_runs):\n",
    "        X_test, y_test = sample(n)\n",
    "        Rn = 1. - f.score(X_test, y_test)\n",
    "        if np.abs(Rn -  R) >= t:\n",
    "            n_deviations += 1\n",
    "    prob = n_deviations / n_runs\n",
    "    \n",
    "    if verbose:\n",
    "        print(f'n            : {n:d}')\n",
    "        print(f'R(f)         : {R:.2f}')\n",
    "        print(f'Var(xi)      : {V:.2f}')\n",
    "        print(f'# deviations : {n_deviations}')\n",
    "        print(f'Chebyshev    : {cheb_bound:.2f}')\n",
    "        print(f'Hoeffding    : {hoef_bound:.2f}')\n",
    "        print(f'P(|Rn(f)-R(f)| >= t) = {prob:.2f}')\n",
    "\n",
    "    return prob, cheb_bound, hoef_bound\n",
    "\n",
    "def test(f, R, V, t=0.05, n_runs=100):\n",
    "    '''Call function test_n for varying sizes n.\n",
    "\n",
    "    Return the sizes, probabilities, and bounds. The sizes n are hard coded. For each n, the estimated probability P(|Rn(f) - R(f)| >= t), the Chebyshev bound, and the Hoeffding bound are returned by the function test_n. \n",
    "    \n",
    "    Parameter:\n",
    "    f       classifier\n",
    "    R       risk R(f) over ground-truth data\n",
    "    V       estimated variance of 1{f(x)\\neq y}\n",
    "    t       error tolerance\n",
    "    n_runs  number of trials (for test_n)\n",
    "\n",
    "    Return:\n",
    "    size    array of sizes n\n",
    "    p       array of estimated probabilities P(|Rn(f) - R(f)| >= t) \n",
    "    cb      array of Chebyshev bounds\n",
    "    hb      array of Hoeffding bounds\n",
    "    '''\n",
    "    \n",
    "    size = [25, 50, 75, 100, 250, 500, 750, 1000, 1500]\n",
    "    p = np.zeros(len(size))\n",
    "    cb = np.zeros(len(size))\n",
    "    hb = np.zeros(len(size))\n",
    "    for i, n in enumerate(size):\n",
    "        p[i], cb[i], hb[i] = test_n(f, R, V, n, t, n_runs, False)\n",
    "    return size, p, cb, hb\n",
    "\n",
    "def plot(size, p, cb, hb):\n",
    "    '''Plots the probability of deviations and the Chebyshev bounds as a function of sample size.\n",
    "    \n",
    "    Parameter:\n",
    "    size    array of sizes n\n",
    "    p       array of estimated probabilities P(|Rn(f) - R(f)| >= t) \n",
    "    cb      array of estimated Chebyshev bounds\n",
    "    hb      array of Hoeffding bounds\n",
    "    '''\n",
    "    \n",
    "    plt.plot(size, p, label='P(|Rn(f)-R(f)|>t)')\n",
    "    plt.plot(size, cb, label='chebyshev')\n",
    "    plt.plot(size, hb, label='hoeffding')\n",
    "    plt.ylim((-0.05, 1))\n",
    "    plt.legend()\n",
    "    plt.show()"
   ]
  },
  {
   "cell_type": "markdown",
   "metadata": {},
   "source": [
    "---\n",
    "### Logistic Regression\n",
    "\n",
    "**Note:** The classifier $f$ obtained by ERM on a training set is just an arbitrary choice. We could also randomly select a function from the underlying hypothesis space to conduct the experiment."
   ]
  },
  {
   "cell_type": "code",
   "execution_count": 4,
   "metadata": {},
   "outputs": [
    {
     "name": "stdout",
     "output_type": "stream",
     "text": [
      "n            : 40\n",
      "R(f)         : 0.63\n",
      "Var(xi)      : 0.23\n",
      "# deviations : 47\n",
      "Chebyshev    : 2.33\n",
      "Hoeffding    : 1.64\n",
      "P(|Rn(f)-R(f)| >= t) = 0.47\n"
     ]
    },
    {
     "data": {
      "image/png": "[encoded data removed]",
      "text/plain": [
       "<Figure size 640x480 with 1 Axes>"
      ]
     },
     "metadata": {},
     "output_type": "display_data"
    }
   ],
   "source": [
    "f = LogisticRegression(penalty=None)\n",
    "f, R, V = init(f)\n",
    "test_n(f, R, V, n=40)\n",
    "size, prob, cheb, hoef = test(f, R, V)\n",
    "plot(size, prob, cheb, hoef)"
   ]
  }
 ],
 "metadata": {
  "kernelspec": {
   "display_name": "ml",
   "language": "python",
   "name": "python3"
  },
  "language_info": {
   "codemirror_mode": {
    "name": "ipython",
    "version": 3
   },
   "file_extension": ".py",
   "mimetype": "text/x-python",
   "name": "python",
   "nbconvert_exporter": "python",
   "pygments_lexer": "ipython3",
   "version": "3.11.5"
  }
 },
 "nbformat": 4,
 "nbformat_minor": 2
}
